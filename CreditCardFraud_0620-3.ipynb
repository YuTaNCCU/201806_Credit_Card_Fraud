{
 "cells": [
  {
   "cell_type": "code",
   "execution_count": 3,
   "metadata": {},
   "outputs": [
    {
     "data": {
      "text/html": [
       "<div>\n",
       "<style scoped>\n",
       "    .dataframe tbody tr th:only-of-type {\n",
       "        vertical-align: middle;\n",
       "    }\n",
       "\n",
       "    .dataframe tbody tr th {\n",
       "        vertical-align: top;\n",
       "    }\n",
       "\n",
       "    .dataframe thead th {\n",
       "        text-align: right;\n",
       "    }\n",
       "</style>\n",
       "<table border=\"1\" class=\"dataframe\">\n",
       "  <thead>\n",
       "    <tr style=\"text-align: right;\">\n",
       "      <th></th>\n",
       "      <th>Time</th>\n",
       "      <th>V1</th>\n",
       "      <th>V2</th>\n",
       "      <th>V3</th>\n",
       "      <th>V4</th>\n",
       "      <th>V5</th>\n",
       "      <th>V6</th>\n",
       "      <th>V7</th>\n",
       "      <th>V8</th>\n",
       "      <th>V9</th>\n",
       "      <th>...</th>\n",
       "      <th>V21</th>\n",
       "      <th>V22</th>\n",
       "      <th>V23</th>\n",
       "      <th>V24</th>\n",
       "      <th>V25</th>\n",
       "      <th>V26</th>\n",
       "      <th>V27</th>\n",
       "      <th>V28</th>\n",
       "      <th>Amount</th>\n",
       "      <th>Class</th>\n",
       "    </tr>\n",
       "  </thead>\n",
       "  <tbody>\n",
       "    <tr>\n",
       "      <th>0</th>\n",
       "      <td>0.0</td>\n",
       "      <td>-1.359807</td>\n",
       "      <td>-0.072781</td>\n",
       "      <td>2.536347</td>\n",
       "      <td>1.378155</td>\n",
       "      <td>-0.338321</td>\n",
       "      <td>0.462388</td>\n",
       "      <td>0.239599</td>\n",
       "      <td>0.098698</td>\n",
       "      <td>0.363787</td>\n",
       "      <td>...</td>\n",
       "      <td>-0.018307</td>\n",
       "      <td>0.277838</td>\n",
       "      <td>-0.110474</td>\n",
       "      <td>0.066928</td>\n",
       "      <td>0.128539</td>\n",
       "      <td>-0.189115</td>\n",
       "      <td>0.133558</td>\n",
       "      <td>-0.021053</td>\n",
       "      <td>149.62</td>\n",
       "      <td>0</td>\n",
       "    </tr>\n",
       "    <tr>\n",
       "      <th>1</th>\n",
       "      <td>0.0</td>\n",
       "      <td>1.191857</td>\n",
       "      <td>0.266151</td>\n",
       "      <td>0.166480</td>\n",
       "      <td>0.448154</td>\n",
       "      <td>0.060018</td>\n",
       "      <td>-0.082361</td>\n",
       "      <td>-0.078803</td>\n",
       "      <td>0.085102</td>\n",
       "      <td>-0.255425</td>\n",
       "      <td>...</td>\n",
       "      <td>-0.225775</td>\n",
       "      <td>-0.638672</td>\n",
       "      <td>0.101288</td>\n",
       "      <td>-0.339846</td>\n",
       "      <td>0.167170</td>\n",
       "      <td>0.125895</td>\n",
       "      <td>-0.008983</td>\n",
       "      <td>0.014724</td>\n",
       "      <td>2.69</td>\n",
       "      <td>0</td>\n",
       "    </tr>\n",
       "    <tr>\n",
       "      <th>2</th>\n",
       "      <td>1.0</td>\n",
       "      <td>-1.358354</td>\n",
       "      <td>-1.340163</td>\n",
       "      <td>1.773209</td>\n",
       "      <td>0.379780</td>\n",
       "      <td>-0.503198</td>\n",
       "      <td>1.800499</td>\n",
       "      <td>0.791461</td>\n",
       "      <td>0.247676</td>\n",
       "      <td>-1.514654</td>\n",
       "      <td>...</td>\n",
       "      <td>0.247998</td>\n",
       "      <td>0.771679</td>\n",
       "      <td>0.909412</td>\n",
       "      <td>-0.689281</td>\n",
       "      <td>-0.327642</td>\n",
       "      <td>-0.139097</td>\n",
       "      <td>-0.055353</td>\n",
       "      <td>-0.059752</td>\n",
       "      <td>378.66</td>\n",
       "      <td>0</td>\n",
       "    </tr>\n",
       "    <tr>\n",
       "      <th>3</th>\n",
       "      <td>1.0</td>\n",
       "      <td>-0.966272</td>\n",
       "      <td>-0.185226</td>\n",
       "      <td>1.792993</td>\n",
       "      <td>-0.863291</td>\n",
       "      <td>-0.010309</td>\n",
       "      <td>1.247203</td>\n",
       "      <td>0.237609</td>\n",
       "      <td>0.377436</td>\n",
       "      <td>-1.387024</td>\n",
       "      <td>...</td>\n",
       "      <td>-0.108300</td>\n",
       "      <td>0.005274</td>\n",
       "      <td>-0.190321</td>\n",
       "      <td>-1.175575</td>\n",
       "      <td>0.647376</td>\n",
       "      <td>-0.221929</td>\n",
       "      <td>0.062723</td>\n",
       "      <td>0.061458</td>\n",
       "      <td>123.50</td>\n",
       "      <td>0</td>\n",
       "    </tr>\n",
       "    <tr>\n",
       "      <th>4</th>\n",
       "      <td>2.0</td>\n",
       "      <td>-1.158233</td>\n",
       "      <td>0.877737</td>\n",
       "      <td>1.548718</td>\n",
       "      <td>0.403034</td>\n",
       "      <td>-0.407193</td>\n",
       "      <td>0.095921</td>\n",
       "      <td>0.592941</td>\n",
       "      <td>-0.270533</td>\n",
       "      <td>0.817739</td>\n",
       "      <td>...</td>\n",
       "      <td>-0.009431</td>\n",
       "      <td>0.798278</td>\n",
       "      <td>-0.137458</td>\n",
       "      <td>0.141267</td>\n",
       "      <td>-0.206010</td>\n",
       "      <td>0.502292</td>\n",
       "      <td>0.219422</td>\n",
       "      <td>0.215153</td>\n",
       "      <td>69.99</td>\n",
       "      <td>0</td>\n",
       "    </tr>\n",
       "  </tbody>\n",
       "</table>\n",
       "<p>5 rows × 31 columns</p>\n",
       "</div>"
      ],
      "text/plain": [
       "   Time        V1        V2        V3        V4        V5        V6        V7  \\\n",
       "0   0.0 -1.359807 -0.072781  2.536347  1.378155 -0.338321  0.462388  0.239599   \n",
       "1   0.0  1.191857  0.266151  0.166480  0.448154  0.060018 -0.082361 -0.078803   \n",
       "2   1.0 -1.358354 -1.340163  1.773209  0.379780 -0.503198  1.800499  0.791461   \n",
       "3   1.0 -0.966272 -0.185226  1.792993 -0.863291 -0.010309  1.247203  0.237609   \n",
       "4   2.0 -1.158233  0.877737  1.548718  0.403034 -0.407193  0.095921  0.592941   \n",
       "\n",
       "         V8        V9  ...         V21       V22       V23       V24  \\\n",
       "0  0.098698  0.363787  ...   -0.018307  0.277838 -0.110474  0.066928   \n",
       "1  0.085102 -0.255425  ...   -0.225775 -0.638672  0.101288 -0.339846   \n",
       "2  0.247676 -1.514654  ...    0.247998  0.771679  0.909412 -0.689281   \n",
       "3  0.377436 -1.387024  ...   -0.108300  0.005274 -0.190321 -1.175575   \n",
       "4 -0.270533  0.817739  ...   -0.009431  0.798278 -0.137458  0.141267   \n",
       "\n",
       "        V25       V26       V27       V28  Amount  Class  \n",
       "0  0.128539 -0.189115  0.133558 -0.021053  149.62      0  \n",
       "1  0.167170  0.125895 -0.008983  0.014724    2.69      0  \n",
       "2 -0.327642 -0.139097 -0.055353 -0.059752  378.66      0  \n",
       "3  0.647376 -0.221929  0.062723  0.061458  123.50      0  \n",
       "4 -0.206010  0.502292  0.219422  0.215153   69.99      0  \n",
       "\n",
       "[5 rows x 31 columns]"
      ]
     },
     "execution_count": 3,
     "metadata": {},
     "output_type": "execute_result"
    }
   ],
   "source": [
    "# Imported Libraries\n",
    "import numpy as np # linear algebra\n",
    "import pandas as pd # data processing, CSV file I/O (e.g. pd.read_csv)\n",
    "import tensorflow as tf\n",
    "import matplotlib.pyplot as plt\n",
    "import seaborn as sns\n",
    "from sklearn.manifold import TSNE\n",
    "from sklearn.decomposition import PCA, TruncatedSVD\n",
    "import matplotlib.patches as mpatches\n",
    "import time\n",
    "# Classifier Libraries\n",
    "from sklearn.linear_model import LogisticRegression\n",
    "from sklearn.svm import SVC\n",
    "from sklearn.neighbors import KNeighborsClassifier\n",
    "from sklearn.tree import DecisionTreeClassifier\n",
    "from sklearn.ensemble import RandomForestClassifier\n",
    "import collections\n",
    "# Other Libraries\n",
    "from imblearn.datasets import fetch_datasets\n",
    "from sklearn.model_selection import train_test_split\n",
    "from sklearn.pipeline import make_pipeline\n",
    "from imblearn.pipeline import make_pipeline as imbalanced_make_pipeline\n",
    "from imblearn.over_sampling import SMOTE\n",
    "from imblearn.under_sampling import NearMiss\n",
    "from imblearn.metrics import classification_report_imbalanced\n",
    "from sklearn.metrics import precision_score, recall_score, f1_score, roc_auc_score, accuracy_score, classification_report\n",
    "from collections import Counter\n",
    "from sklearn.model_selection import KFold, StratifiedKFold\n",
    "import warnings\n",
    "warnings.filterwarnings(\"ignore\")"
   ]
  },
  {
   "cell_type": "code",
   "execution_count": 100,
   "metadata": {},
   "outputs": [
    {
     "data": {
      "text/html": [
       "<div>\n",
       "<style scoped>\n",
       "    .dataframe tbody tr th:only-of-type {\n",
       "        vertical-align: middle;\n",
       "    }\n",
       "\n",
       "    .dataframe tbody tr th {\n",
       "        vertical-align: top;\n",
       "    }\n",
       "\n",
       "    .dataframe thead th {\n",
       "        text-align: right;\n",
       "    }\n",
       "</style>\n",
       "<table border=\"1\" class=\"dataframe\">\n",
       "  <thead>\n",
       "    <tr style=\"text-align: right;\">\n",
       "      <th></th>\n",
       "      <th>Time</th>\n",
       "      <th>V1</th>\n",
       "      <th>V2</th>\n",
       "      <th>V3</th>\n",
       "      <th>V4</th>\n",
       "      <th>V5</th>\n",
       "      <th>V6</th>\n",
       "      <th>V7</th>\n",
       "      <th>V8</th>\n",
       "      <th>V9</th>\n",
       "      <th>...</th>\n",
       "      <th>V21</th>\n",
       "      <th>V22</th>\n",
       "      <th>V23</th>\n",
       "      <th>V24</th>\n",
       "      <th>V25</th>\n",
       "      <th>V26</th>\n",
       "      <th>V27</th>\n",
       "      <th>V28</th>\n",
       "      <th>Amount</th>\n",
       "      <th>Class</th>\n",
       "    </tr>\n",
       "  </thead>\n",
       "  <tbody>\n",
       "    <tr>\n",
       "      <th>0</th>\n",
       "      <td>0.0</td>\n",
       "      <td>-1.359807</td>\n",
       "      <td>-0.072781</td>\n",
       "      <td>2.536347</td>\n",
       "      <td>1.378155</td>\n",
       "      <td>-0.338321</td>\n",
       "      <td>0.462388</td>\n",
       "      <td>0.239599</td>\n",
       "      <td>0.098698</td>\n",
       "      <td>0.363787</td>\n",
       "      <td>...</td>\n",
       "      <td>-0.018307</td>\n",
       "      <td>0.277838</td>\n",
       "      <td>-0.110474</td>\n",
       "      <td>0.066928</td>\n",
       "      <td>0.128539</td>\n",
       "      <td>-0.189115</td>\n",
       "      <td>0.133558</td>\n",
       "      <td>-0.021053</td>\n",
       "      <td>149.62</td>\n",
       "      <td>0</td>\n",
       "    </tr>\n",
       "    <tr>\n",
       "      <th>1</th>\n",
       "      <td>0.0</td>\n",
       "      <td>1.191857</td>\n",
       "      <td>0.266151</td>\n",
       "      <td>0.166480</td>\n",
       "      <td>0.448154</td>\n",
       "      <td>0.060018</td>\n",
       "      <td>-0.082361</td>\n",
       "      <td>-0.078803</td>\n",
       "      <td>0.085102</td>\n",
       "      <td>-0.255425</td>\n",
       "      <td>...</td>\n",
       "      <td>-0.225775</td>\n",
       "      <td>-0.638672</td>\n",
       "      <td>0.101288</td>\n",
       "      <td>-0.339846</td>\n",
       "      <td>0.167170</td>\n",
       "      <td>0.125895</td>\n",
       "      <td>-0.008983</td>\n",
       "      <td>0.014724</td>\n",
       "      <td>2.69</td>\n",
       "      <td>0</td>\n",
       "    </tr>\n",
       "    <tr>\n",
       "      <th>2</th>\n",
       "      <td>1.0</td>\n",
       "      <td>-1.358354</td>\n",
       "      <td>-1.340163</td>\n",
       "      <td>1.773209</td>\n",
       "      <td>0.379780</td>\n",
       "      <td>-0.503198</td>\n",
       "      <td>1.800499</td>\n",
       "      <td>0.791461</td>\n",
       "      <td>0.247676</td>\n",
       "      <td>-1.514654</td>\n",
       "      <td>...</td>\n",
       "      <td>0.247998</td>\n",
       "      <td>0.771679</td>\n",
       "      <td>0.909412</td>\n",
       "      <td>-0.689281</td>\n",
       "      <td>-0.327642</td>\n",
       "      <td>-0.139097</td>\n",
       "      <td>-0.055353</td>\n",
       "      <td>-0.059752</td>\n",
       "      <td>378.66</td>\n",
       "      <td>0</td>\n",
       "    </tr>\n",
       "    <tr>\n",
       "      <th>3</th>\n",
       "      <td>1.0</td>\n",
       "      <td>-0.966272</td>\n",
       "      <td>-0.185226</td>\n",
       "      <td>1.792993</td>\n",
       "      <td>-0.863291</td>\n",
       "      <td>-0.010309</td>\n",
       "      <td>1.247203</td>\n",
       "      <td>0.237609</td>\n",
       "      <td>0.377436</td>\n",
       "      <td>-1.387024</td>\n",
       "      <td>...</td>\n",
       "      <td>-0.108300</td>\n",
       "      <td>0.005274</td>\n",
       "      <td>-0.190321</td>\n",
       "      <td>-1.175575</td>\n",
       "      <td>0.647376</td>\n",
       "      <td>-0.221929</td>\n",
       "      <td>0.062723</td>\n",
       "      <td>0.061458</td>\n",
       "      <td>123.50</td>\n",
       "      <td>0</td>\n",
       "    </tr>\n",
       "    <tr>\n",
       "      <th>4</th>\n",
       "      <td>2.0</td>\n",
       "      <td>-1.158233</td>\n",
       "      <td>0.877737</td>\n",
       "      <td>1.548718</td>\n",
       "      <td>0.403034</td>\n",
       "      <td>-0.407193</td>\n",
       "      <td>0.095921</td>\n",
       "      <td>0.592941</td>\n",
       "      <td>-0.270533</td>\n",
       "      <td>0.817739</td>\n",
       "      <td>...</td>\n",
       "      <td>-0.009431</td>\n",
       "      <td>0.798278</td>\n",
       "      <td>-0.137458</td>\n",
       "      <td>0.141267</td>\n",
       "      <td>-0.206010</td>\n",
       "      <td>0.502292</td>\n",
       "      <td>0.219422</td>\n",
       "      <td>0.215153</td>\n",
       "      <td>69.99</td>\n",
       "      <td>0</td>\n",
       "    </tr>\n",
       "  </tbody>\n",
       "</table>\n",
       "<p>5 rows × 31 columns</p>\n",
       "</div>"
      ],
      "text/plain": [
       "   Time        V1        V2        V3        V4        V5        V6        V7  \\\n",
       "0   0.0 -1.359807 -0.072781  2.536347  1.378155 -0.338321  0.462388  0.239599   \n",
       "1   0.0  1.191857  0.266151  0.166480  0.448154  0.060018 -0.082361 -0.078803   \n",
       "2   1.0 -1.358354 -1.340163  1.773209  0.379780 -0.503198  1.800499  0.791461   \n",
       "3   1.0 -0.966272 -0.185226  1.792993 -0.863291 -0.010309  1.247203  0.237609   \n",
       "4   2.0 -1.158233  0.877737  1.548718  0.403034 -0.407193  0.095921  0.592941   \n",
       "\n",
       "         V8        V9  ...         V21       V22       V23       V24  \\\n",
       "0  0.098698  0.363787  ...   -0.018307  0.277838 -0.110474  0.066928   \n",
       "1  0.085102 -0.255425  ...   -0.225775 -0.638672  0.101288 -0.339846   \n",
       "2  0.247676 -1.514654  ...    0.247998  0.771679  0.909412 -0.689281   \n",
       "3  0.377436 -1.387024  ...   -0.108300  0.005274 -0.190321 -1.175575   \n",
       "4 -0.270533  0.817739  ...   -0.009431  0.798278 -0.137458  0.141267   \n",
       "\n",
       "        V25       V26       V27       V28  Amount  Class  \n",
       "0  0.128539 -0.189115  0.133558 -0.021053  149.62      0  \n",
       "1  0.167170  0.125895 -0.008983  0.014724    2.69      0  \n",
       "2 -0.327642 -0.139097 -0.055353 -0.059752  378.66      0  \n",
       "3  0.647376 -0.221929  0.062723  0.061458  123.50      0  \n",
       "4 -0.206010  0.502292  0.219422  0.215153   69.99      0  \n",
       "\n",
       "[5 rows x 31 columns]"
      ]
     },
     "execution_count": 100,
     "metadata": {},
     "output_type": "execute_result"
    }
   ],
   "source": [
    "#讀取資料\n",
    "df = pd.read_csv('/Users/yuta_mac/Desktop/CreditCardFraud/creditcard.csv')\n",
    "df.head()"
   ]
  },
  {
   "cell_type": "markdown",
   "metadata": {},
   "source": [
    " ## scale Amount and Time"
   ]
  },
  {
   "cell_type": "code",
   "execution_count": 4,
   "metadata": {},
   "outputs": [],
   "source": [
    "# Since most of our data has already been scaled we should scale the columns that are left to scale (Amount and Time)\n",
    "from sklearn.preprocessing import StandardScaler, RobustScaler\n",
    "\n",
    "# RobustScaler is less prone to outliers.\n",
    "\n",
    "std_scaler = StandardScaler()\n",
    "rob_scaler = RobustScaler()\n",
    "\n",
    "df['scaled_amount'] = rob_scaler.fit_transform(df['Amount'].values.reshape(-1,1))\n",
    "df['scaled_time'] = rob_scaler.fit_transform(df['Time'].values.reshape(-1,1))\n",
    "\n",
    "df.drop(['Time','Amount'], axis=1, inplace=True)"
   ]
  },
  {
   "cell_type": "code",
   "execution_count": 5,
   "metadata": {
    "scrolled": true
   },
   "outputs": [
    {
     "data": {
      "text/html": [
       "<div>\n",
       "<style scoped>\n",
       "    .dataframe tbody tr th:only-of-type {\n",
       "        vertical-align: middle;\n",
       "    }\n",
       "\n",
       "    .dataframe tbody tr th {\n",
       "        vertical-align: top;\n",
       "    }\n",
       "\n",
       "    .dataframe thead th {\n",
       "        text-align: right;\n",
       "    }\n",
       "</style>\n",
       "<table border=\"1\" class=\"dataframe\">\n",
       "  <thead>\n",
       "    <tr style=\"text-align: right;\">\n",
       "      <th></th>\n",
       "      <th>scaled_amount</th>\n",
       "      <th>scaled_time</th>\n",
       "      <th>V1</th>\n",
       "      <th>V2</th>\n",
       "      <th>V3</th>\n",
       "      <th>V4</th>\n",
       "      <th>V5</th>\n",
       "      <th>V6</th>\n",
       "      <th>V7</th>\n",
       "      <th>V8</th>\n",
       "      <th>...</th>\n",
       "      <th>V20</th>\n",
       "      <th>V21</th>\n",
       "      <th>V22</th>\n",
       "      <th>V23</th>\n",
       "      <th>V24</th>\n",
       "      <th>V25</th>\n",
       "      <th>V26</th>\n",
       "      <th>V27</th>\n",
       "      <th>V28</th>\n",
       "      <th>Class</th>\n",
       "    </tr>\n",
       "  </thead>\n",
       "  <tbody>\n",
       "    <tr>\n",
       "      <th>0</th>\n",
       "      <td>1.783274</td>\n",
       "      <td>-0.994983</td>\n",
       "      <td>-1.359807</td>\n",
       "      <td>-0.072781</td>\n",
       "      <td>2.536347</td>\n",
       "      <td>1.378155</td>\n",
       "      <td>-0.338321</td>\n",
       "      <td>0.462388</td>\n",
       "      <td>0.239599</td>\n",
       "      <td>0.098698</td>\n",
       "      <td>...</td>\n",
       "      <td>0.251412</td>\n",
       "      <td>-0.018307</td>\n",
       "      <td>0.277838</td>\n",
       "      <td>-0.110474</td>\n",
       "      <td>0.066928</td>\n",
       "      <td>0.128539</td>\n",
       "      <td>-0.189115</td>\n",
       "      <td>0.133558</td>\n",
       "      <td>-0.021053</td>\n",
       "      <td>0</td>\n",
       "    </tr>\n",
       "    <tr>\n",
       "      <th>1</th>\n",
       "      <td>-0.269825</td>\n",
       "      <td>-0.994983</td>\n",
       "      <td>1.191857</td>\n",
       "      <td>0.266151</td>\n",
       "      <td>0.166480</td>\n",
       "      <td>0.448154</td>\n",
       "      <td>0.060018</td>\n",
       "      <td>-0.082361</td>\n",
       "      <td>-0.078803</td>\n",
       "      <td>0.085102</td>\n",
       "      <td>...</td>\n",
       "      <td>-0.069083</td>\n",
       "      <td>-0.225775</td>\n",
       "      <td>-0.638672</td>\n",
       "      <td>0.101288</td>\n",
       "      <td>-0.339846</td>\n",
       "      <td>0.167170</td>\n",
       "      <td>0.125895</td>\n",
       "      <td>-0.008983</td>\n",
       "      <td>0.014724</td>\n",
       "      <td>0</td>\n",
       "    </tr>\n",
       "    <tr>\n",
       "      <th>2</th>\n",
       "      <td>4.983721</td>\n",
       "      <td>-0.994972</td>\n",
       "      <td>-1.358354</td>\n",
       "      <td>-1.340163</td>\n",
       "      <td>1.773209</td>\n",
       "      <td>0.379780</td>\n",
       "      <td>-0.503198</td>\n",
       "      <td>1.800499</td>\n",
       "      <td>0.791461</td>\n",
       "      <td>0.247676</td>\n",
       "      <td>...</td>\n",
       "      <td>0.524980</td>\n",
       "      <td>0.247998</td>\n",
       "      <td>0.771679</td>\n",
       "      <td>0.909412</td>\n",
       "      <td>-0.689281</td>\n",
       "      <td>-0.327642</td>\n",
       "      <td>-0.139097</td>\n",
       "      <td>-0.055353</td>\n",
       "      <td>-0.059752</td>\n",
       "      <td>0</td>\n",
       "    </tr>\n",
       "    <tr>\n",
       "      <th>3</th>\n",
       "      <td>1.418291</td>\n",
       "      <td>-0.994972</td>\n",
       "      <td>-0.966272</td>\n",
       "      <td>-0.185226</td>\n",
       "      <td>1.792993</td>\n",
       "      <td>-0.863291</td>\n",
       "      <td>-0.010309</td>\n",
       "      <td>1.247203</td>\n",
       "      <td>0.237609</td>\n",
       "      <td>0.377436</td>\n",
       "      <td>...</td>\n",
       "      <td>-0.208038</td>\n",
       "      <td>-0.108300</td>\n",
       "      <td>0.005274</td>\n",
       "      <td>-0.190321</td>\n",
       "      <td>-1.175575</td>\n",
       "      <td>0.647376</td>\n",
       "      <td>-0.221929</td>\n",
       "      <td>0.062723</td>\n",
       "      <td>0.061458</td>\n",
       "      <td>0</td>\n",
       "    </tr>\n",
       "    <tr>\n",
       "      <th>4</th>\n",
       "      <td>0.670579</td>\n",
       "      <td>-0.994960</td>\n",
       "      <td>-1.158233</td>\n",
       "      <td>0.877737</td>\n",
       "      <td>1.548718</td>\n",
       "      <td>0.403034</td>\n",
       "      <td>-0.407193</td>\n",
       "      <td>0.095921</td>\n",
       "      <td>0.592941</td>\n",
       "      <td>-0.270533</td>\n",
       "      <td>...</td>\n",
       "      <td>0.408542</td>\n",
       "      <td>-0.009431</td>\n",
       "      <td>0.798278</td>\n",
       "      <td>-0.137458</td>\n",
       "      <td>0.141267</td>\n",
       "      <td>-0.206010</td>\n",
       "      <td>0.502292</td>\n",
       "      <td>0.219422</td>\n",
       "      <td>0.215153</td>\n",
       "      <td>0</td>\n",
       "    </tr>\n",
       "  </tbody>\n",
       "</table>\n",
       "<p>5 rows × 31 columns</p>\n",
       "</div>"
      ],
      "text/plain": [
       "   scaled_amount  scaled_time        V1        V2        V3        V4  \\\n",
       "0       1.783274    -0.994983 -1.359807 -0.072781  2.536347  1.378155   \n",
       "1      -0.269825    -0.994983  1.191857  0.266151  0.166480  0.448154   \n",
       "2       4.983721    -0.994972 -1.358354 -1.340163  1.773209  0.379780   \n",
       "3       1.418291    -0.994972 -0.966272 -0.185226  1.792993 -0.863291   \n",
       "4       0.670579    -0.994960 -1.158233  0.877737  1.548718  0.403034   \n",
       "\n",
       "         V5        V6        V7        V8  ...         V20       V21  \\\n",
       "0 -0.338321  0.462388  0.239599  0.098698  ...    0.251412 -0.018307   \n",
       "1  0.060018 -0.082361 -0.078803  0.085102  ...   -0.069083 -0.225775   \n",
       "2 -0.503198  1.800499  0.791461  0.247676  ...    0.524980  0.247998   \n",
       "3 -0.010309  1.247203  0.237609  0.377436  ...   -0.208038 -0.108300   \n",
       "4 -0.407193  0.095921  0.592941 -0.270533  ...    0.408542 -0.009431   \n",
       "\n",
       "        V22       V23       V24       V25       V26       V27       V28  Class  \n",
       "0  0.277838 -0.110474  0.066928  0.128539 -0.189115  0.133558 -0.021053      0  \n",
       "1 -0.638672  0.101288 -0.339846  0.167170  0.125895 -0.008983  0.014724      0  \n",
       "2  0.771679  0.909412 -0.689281 -0.327642 -0.139097 -0.055353 -0.059752      0  \n",
       "3  0.005274 -0.190321 -1.175575  0.647376 -0.221929  0.062723  0.061458      0  \n",
       "4  0.798278 -0.137458  0.141267 -0.206010  0.502292  0.219422  0.215153      0  \n",
       "\n",
       "[5 rows x 31 columns]"
      ]
     },
     "execution_count": 5,
     "metadata": {},
     "output_type": "execute_result"
    }
   ],
   "source": [
    "scaled_amount = df['scaled_amount']\n",
    "scaled_time = df['scaled_time']\n",
    "\n",
    "df.drop(['scaled_amount', 'scaled_time'], axis=1, inplace=True)\n",
    "df.insert(0, 'scaled_amount', scaled_amount)\n",
    "df.insert(1, 'scaled_time', scaled_time)\n",
    "\n",
    "# Amount and Time are Scaled!\n",
    "\n",
    "df.head()"
   ]
  },
  {
   "cell_type": "markdown",
   "metadata": {},
   "source": [
    "## Without Sampling and Splitting the Data"
   ]
  },
  {
   "cell_type": "code",
   "execution_count": 108,
   "metadata": {},
   "outputs": [
    {
     "name": "stdout",
     "output_type": "stream",
     "text": [
      "No Frauds 99.83 % of the dataset\n",
      "Frauds 0.17 % of the dataset\n"
     ]
    },
    {
     "data": {
      "text/plain": [
       "(227845, 30)"
      ]
     },
     "execution_count": 108,
     "metadata": {},
     "output_type": "execute_result"
    }
   ],
   "source": [
    "from sklearn.model_selection import train_test_split\n",
    "from sklearn.model_selection import StratifiedShuffleSplit\n",
    "#看看目標特徵中不同類別的比例\n",
    "print('No Frauds', round(df['Class'].value_counts()[0]/len(df) * 100,2), '% of the dataset')\n",
    "print('Frauds', round(df['Class'].value_counts()[1]/len(df) * 100,2), '% of the dataset')\n",
    "#分開不同類別\n",
    "X = df.drop('Class', axis=1)\n",
    "y = df['Class']\n",
    "#繼承sk-learn中提供的對數據集進行洗牌並分割函數，抽出五組\n",
    "sss = StratifiedShuffleSplit(n_splits=5, test_size=0.2, random_state=42)\n",
    "#使用sss的split功能，分割出五組「訓練跟測試集」\n",
    "for train_index, test_index in sss.split(X, y):\n",
    "    original_Xtrain, original_Xtest = X.iloc[train_index], X.iloc[test_index]\n",
    "    original_ytrain, original_ytest = y.iloc[train_index], y.iloc[test_index]\n",
    "# 將第五組轉換成Array(_ws = Without Sampling)\n",
    "Xtrain_ws = original_Xtrain.values\n",
    "Xtest_ws = original_Xtest.values\n",
    "ytrain_ws = original_ytrain.values\n",
    "ytest_ws = original_ytest.values\n",
    "Xtrain_ws.shape"
   ]
  },
  {
   "cell_type": "markdown",
   "metadata": {},
   "source": [
    "## Random Under-Sampling"
   ]
  },
  {
   "cell_type": "code",
   "execution_count": 118,
   "metadata": {
    "scrolled": true
   },
   "outputs": [
    {
     "data": {
      "text/plain": [
       "(787, 30)"
      ]
     },
     "execution_count": 118,
     "metadata": {},
     "output_type": "execute_result"
    }
   ],
   "source": [
    "# 先洗牌 Lets shuffle the data before creating the subsamples\n",
    "df = df.sample(frac=1)\n",
    "# 492筆有詐欺＋抽492筆無詐欺\n",
    "fraud_df = df.loc[df['Class'] == 1]\n",
    "non_fraud_df = df.loc[df['Class'] == 0][:492]\n",
    "#有詐欺合併無詐欺\n",
    "normal_distributed_df = pd.concat([fraud_df, non_fraud_df])\n",
    "# 再洗牌\n",
    "new_df = normal_distributed_df.sample(frac=1, random_state=42)\n",
    "#分割\n",
    "X = new_df.drop('Class', axis=1)\n",
    "y = new_df['Class']\n",
    "from sklearn.model_selection import train_test_split\n",
    "Xtrain_us, Xtest_us, ytrain_us, ytest_us = train_test_split(X, y, test_size=0.2, random_state=42)\n",
    "Xtrain_us.shape"
   ]
  },
  {
   "cell_type": "markdown",
   "metadata": {},
   "source": [
    "## OverSampling"
   ]
  },
  {
   "cell_type": "code",
   "execution_count": 105,
   "metadata": {
    "scrolled": true
   },
   "outputs": [
    {
     "data": {
      "text/plain": [
       "(454902, 30)"
      ]
     },
     "execution_count": 105,
     "metadata": {},
     "output_type": "execute_result"
    }
   ],
   "source": [
    "# OverSampling 使用 SMOTE 方法\n",
    "sm = SMOTE(ratio='minority', random_state=42)\n",
    "# 使用sm.fit_sample方法，將original_Xtrain, original_ytrain中的資料，系統性地合成不平衡特徵\n",
    "Xtrain_os, ytrain_os = sm.fit_sample(original_Xtrain, original_ytrain)\n",
    "Xtest_os, ytest_os = original_Xtest, original_ytest\n",
    "Xtrain_os.shape"
   ]
  },
  {
   "cell_type": "markdown",
   "metadata": {},
   "source": [
    "# ----Training-----"
   ]
  },
  {
   "cell_type": "markdown",
   "metadata": {},
   "source": [
    "## Train without Sampling¶"
   ]
  },
  {
   "cell_type": "code",
   "execution_count": 191,
   "metadata": {},
   "outputs": [],
   "source": [
    "# Let's implement simple classifiers\n",
    "\n",
    "classifiers_ws = {\n",
    "    \"LogisiticRegression_ws\": LogisticRegression(),\n",
    "    \"KNearest_ws\": KNeighborsClassifier(),\n",
    "    \"Support Vector Classifier_ws\": SVC(),\n",
    "    \"DecisionTreeClassifier_ws\": DecisionTreeClassifier()\n",
    "}\n"
   ]
  },
  {
   "cell_type": "code",
   "execution_count": null,
   "metadata": {},
   "outputs": [],
   "source": [
    "# stop"
   ]
  },
  {
   "cell_type": "code",
   "execution_count": 192,
   "metadata": {
    "scrolled": true
   },
   "outputs": [
    {
     "name": "stdout",
     "output_type": "stream",
     "text": [
      "Classifiers:  LogisticRegression Has a training score of 99.893 % accuracy score\n",
      "Classifiers:  KNeighborsClassifier Has a training score of 99.834 % accuracy score\n",
      "Classifiers:  SVC Has a training score of 99.834 % accuracy score\n",
      "Classifiers:  DecisionTreeClassifier Has a training score of 99.909 % accuracy score\n"
     ]
    }
   ],
   "source": [
    "# Wow our scores are getting even high scores even when applying cross validation.\n",
    "from sklearn.model_selection import cross_val_score\n",
    "\n",
    "#sklearn库的Cross Validation\n",
    "#https://blog.csdn.net/Dream_angel_Z/article/details/47048285\n",
    "for key, classifier in classifiers_ws.items():\n",
    "    classifier.fit(Xtrain_ws, ytrain_ws)\n",
    "    training_score = cross_val_score(classifier, Xtrain_ws, ytrain_ws, cv=5)\n",
    "    print(\"Classifiers: \", classifier.__class__.__name__, \"Has a training score of\", round(training_score.mean(), 5) * 100, \"% accuracy score\")"
   ]
  },
  {
   "cell_type": "code",
   "execution_count": null,
   "metadata": {},
   "outputs": [],
   "source": [
    "# stop"
   ]
  },
  {
   "cell_type": "markdown",
   "metadata": {},
   "source": [
    "## Train in Random Under-Sampling¶"
   ]
  },
  {
   "cell_type": "code",
   "execution_count": 63,
   "metadata": {},
   "outputs": [],
   "source": [
    "# Let's implement simple classifiers\n",
    "\n",
    "classifiers_us = {\n",
    "    \"LogisiticRegression_us\": LogisticRegression(),\n",
    "    \"KNearest_us\": KNeighborsClassifier(),\n",
    "    \"Support Vector Classifier_us\": SVC(),\n",
    "    \"DecisionTreeClassifier_us\": DecisionTreeClassifier()\n",
    "}\n"
   ]
  },
  {
   "cell_type": "code",
   "execution_count": 175,
   "metadata": {},
   "outputs": [
    {
     "name": "stdout",
     "output_type": "stream",
     "text": [
      "Classifiers:  LogisticRegression Has a training score of 92.51 % accuracy score\n",
      "Classifiers:  KNeighborsClassifier Has a training score of 66.33 % accuracy score\n",
      "Classifiers:  SVC Has a training score of 55.02 % accuracy score\n",
      "Classifiers:  DecisionTreeClassifier Has a training score of 91.36 % accuracy score\n"
     ]
    }
   ],
   "source": [
    "# Wow our scores are getting even high scores even when applying cross validation.\n",
    "from sklearn.model_selection import cross_val_score\n",
    "\n",
    "#sklearn库的Cross Validation\n",
    "#https://blog.csdn.net/Dream_angel_Z/article/details/47048285\n",
    "for key, classifier in classifiers_us.items():\n",
    "    classifier.fit(Xtrain_us, ytrain_us)\n",
    "    training_score = cross_val_score(classifier, Xtrain_us, ytrain_us, cv=5)\n",
    "    print(\"Classifiers: \", classifier.__class__.__name__, \"Has a training score of\", round(training_score.mean(), 4) * 100, \"% accuracy score\")"
   ]
  },
  {
   "cell_type": "markdown",
   "metadata": {},
   "source": [
    "## Train in OverSampling¶"
   ]
  },
  {
   "cell_type": "code",
   "execution_count": 160,
   "metadata": {},
   "outputs": [],
   "source": [
    "# Let's implement simple classifiers\n",
    "\n",
    "classifiers_os = {\n",
    "    \"LogisiticRegression_os\": LogisticRegression(),\n",
    "    \"KNearest_os\": KNeighborsClassifier(),\n",
    "    \"Support Vector Classifier_os\": SVC(),\n",
    "    \"DecisionTreeClassifier_os\": DecisionTreeClassifier()\n",
    "}"
   ]
  },
  {
   "cell_type": "code",
   "execution_count": null,
   "metadata": {},
   "outputs": [],
   "source": [
    "# stop"
   ]
  },
  {
   "cell_type": "code",
   "execution_count": 80,
   "metadata": {},
   "outputs": [
    {
     "name": "stdout",
     "output_type": "stream",
     "text": [
      "Classifiers:  LogisticRegression Has a training score of 95.179181 % accuracy score\n",
      "Classifiers:  KNeighborsClassifier Has a training score of 99.89865999999999 % accuracy score\n",
      "Classifiers:  SVC Has a training score of 99.894922 % accuracy score\n",
      "Classifiers:  DecisionTreeClassifier Has a training score of 99.828754 % accuracy score\n"
     ]
    }
   ],
   "source": [
    "# Wow our scores are getting even high scores even when applying cross validation.\n",
    "from sklearn.model_selection import cross_val_score\n",
    "\n",
    "\n",
    "for key, classifier in classifiers_os.items():\n",
    "    classifier.fit(Xtrain_os, ytrain_os)\n",
    "    training_score = cross_val_score(classifier, Xtrain_os, ytrain_os, cv=5)\n",
    "    print(\"Classifiers: \", classifier.__class__.__name__, \"Has a training score of\", round(training_score.mean(), 8) * 100, \"% accuracy score\")"
   ]
  },
  {
   "cell_type": "code",
   "execution_count": null,
   "metadata": {},
   "outputs": [],
   "source": [
    "# stop"
   ]
  },
  {
   "cell_type": "code",
   "execution_count": 170,
   "metadata": {},
   "outputs": [],
   "source": [
    "classifiers_os[\"LogisiticRegression_os\"] = classifiers[\"LogisiticRegression\"]\n",
    "classifiers_os[\"KNearest_os\"] = classifiers[\"KNearest\"]\n",
    "classifiers_os[\"Support Vector Classifier_os\"] = classifiers[\"Support Vector Classifier\"]\n",
    "classifiers_os[\"DecisionTreeClassifier_os\"] = classifiers[\"DecisionTreeClassifier\"]"
   ]
  },
  {
   "cell_type": "markdown",
   "metadata": {},
   "source": [
    "# ----Testing----"
   ]
  },
  {
   "cell_type": "markdown",
   "metadata": {},
   "source": [
    "## Testing without Sampling¶"
   ]
  },
  {
   "cell_type": "code",
   "execution_count": 201,
   "metadata": {},
   "outputs": [
    {
     "name": "stdout",
     "output_type": "stream",
     "text": [
      "Confusion matrix, without normalization\n",
      "[[56864     0]\n",
      " [    0    98]]\n",
      "Confusion matrix, without normalization\n",
      "[[56844    20]\n",
      " [   46    52]]\n",
      "Confusion matrix, without normalization\n",
      "[[56864     0]\n",
      " [   91     7]]\n",
      "Confusion matrix, without normalization\n",
      "[[56864     0]\n",
      " [   91     7]]\n",
      "Confusion matrix, without normalization\n",
      "[[56836    28]\n",
      " [   24    74]]\n"
     ]
    },
    {
     "data": {
      "image/png": "[encoded data removed]",
      "text/plain": [
       "<Figure size 864x864 with 10 Axes>"
      ]
     },
     "metadata": {},
     "output_type": "display_data"
    }
   ],
   "source": [
    "from sklearn.metrics import confusion_matrix\n",
    "#Prediction\n",
    "y_pred_log_reg_ws = classifiers_ws['LogisiticRegression_ws'].predict(Xtest_ws)\n",
    "y_pred_knear_ws = classifiers_ws['KNearest_ws'].predict(Xtest_ws)\n",
    "y_pred_svc_ws = classifiers_ws['Support Vector Classifier_ws'] .predict(Xtest_ws)\n",
    "y_pred_tree_ws = classifiers_ws['DecisionTreeClassifier_ws'].predict(Xtest_ws)\n",
    "\n",
    "#confusion matrix\n",
    "log_reg_cm_ws = confusion_matrix(ytest_ws, y_pred_log_reg_ws)\n",
    "kneighbors_cm_ws = confusion_matrix(ytest_ws, y_pred_knear_ws)\n",
    "svc_cm_ws = confusion_matrix(ytest_ws, y_pred_svc_ws)\n",
    "tree_cm_ws = confusion_matrix(ytest_ws, y_pred_tree_ws)\n",
    "\n",
    "# 畫出最理想的Confusion matrix，方便對照\n",
    "actual_cm_ws = confusion_matrix(ytest_ws, ytest_ws)\n",
    "labels = ['No Fraud', 'Fraud']\n",
    "fig = plt.figure(figsize=(12,12))\n",
    "#畫圖\n",
    "fig.add_subplot(321)\n",
    "plot_confusion_matrix(actual_cm_ws, labels, title=\"actual_cm\", cmap=plt.cm.Greens)\n",
    "fig.add_subplot(323)\n",
    "plot_confusion_matrix(log_reg_cm_ws, labels, title=\"log_reg_cm\", cmap=plt.cm.Greens)\n",
    "fig.add_subplot(324)\n",
    "plot_confusion_matrix(kneighbors_cm_ws, labels, title=\"kneighbors_cm\", cmap=plt.cm.Greens)\n",
    "fig.add_subplot(325)\n",
    "plot_confusion_matrix(svc_cm_ws, labels, title=\"svc_cm\", cmap=plt.cm.Greens)\n",
    "fig.add_subplot(326)\n",
    "plot_confusion_matrix(tree_cm_ws, labels, title=\"tree_cm\", cmap=plt.cm.Greens)\n"
   ]
  },
  {
   "cell_type": "markdown",
   "metadata": {},
   "source": [
    "## Testing in Under-Sampling¶"
   ]
  },
  {
   "cell_type": "code",
   "execution_count": 197,
   "metadata": {},
   "outputs": [
    {
     "name": "stdout",
     "output_type": "stream",
     "text": [
      "Confusion matrix, without normalization\n",
      "[[ 87   0]\n",
      " [  0 110]]\n",
      "Confusion matrix, without normalization\n",
      "[[ 84   3]\n",
      " [  6 104]]\n",
      "Confusion matrix, without normalization\n",
      "[[50 37]\n",
      " [38 72]]\n",
      "Confusion matrix, without normalization\n",
      "[[ 87   0]\n",
      " [104   6]]\n",
      "Confusion matrix, without normalization\n",
      "[[ 81   6]\n",
      " [  7 103]]\n"
     ]
    },
    {
     "data": {
      "image/png": "[encoded data removed]",
      "text/plain": [
       "<Figure size 864x864 with 10 Axes>"
      ]
     },
     "metadata": {},
     "output_type": "display_data"
    }
   ],
   "source": [
    "y_pred_log_reg_us = classifiers_us['LogisiticRegression_us'].predict(Xtest_us)\n",
    "y_pred_knear_us = classifiers_us['KNearest_us'].predict(Xtest_us)\n",
    "y_pred_svc_us = classifiers_us['Support Vector Classifier_us'] .predict(Xtest_us)\n",
    "y_pred_tree_us = classifiers_us['DecisionTreeClassifier_us'].predict(Xtest_us)\n",
    "\n",
    "log_reg_cm_us = confusion_matrix(ytest_us, y_pred_log_reg_us)\n",
    "kneighbors_cm_us = confusion_matrix(ytest_us, y_pred_knear_us)\n",
    "svc_cm_us = confusion_matrix(ytest_us, y_pred_svc_us)\n",
    "tree_cm_us = confusion_matrix(ytest_us, y_pred_tree_us)\n",
    "\n",
    "#畫出最理想的Confusion matrix，方便對照\n",
    "actual_cm_us = confusion_matrix(ytest_us, ytest_us)\n",
    "labels = ['No Fraud', 'Fraud']\n",
    "fig = plt.figure(figsize=(12,12))\n",
    "#畫圖\n",
    "fig.add_subplot(321)\n",
    "plot_confusion_matrix(actual_cm_us, labels, title=\"actual_cm\", cmap=plt.cm.Greens)\n",
    "fig.add_subplot(323)\n",
    "plot_confusion_matrix(log_reg_cm_us, labels, title=\"log_reg_cm\", cmap=plt.cm.Greens)\n",
    "fig.add_subplot(324)\n",
    "plot_confusion_matrix(kneighbors_cm_us, labels, title=\"kneighbors_cm\", cmap=plt.cm.Greens)\n",
    "fig.add_subplot(325)\n",
    "plot_confusion_matrix(svc_cm_us, labels, title=\"svc_cm\", cmap=plt.cm.Greens)\n",
    "fig.add_subplot(326)\n",
    "plot_confusion_matrix(tree_cm_us, labels, title=\"tree_cm\", cmap=plt.cm.Greens)\n"
   ]
  },
  {
   "cell_type": "markdown",
   "metadata": {},
   "source": [
    "## Testing in OverSampling"
   ]
  },
  {
   "cell_type": "code",
   "execution_count": 198,
   "metadata": {
    "scrolled": false
   },
   "outputs": [
    {
     "name": "stdout",
     "output_type": "stream",
     "text": [
      "Confusion matrix, without normalization\n",
      "[[56864     0]\n",
      " [    0    98]]\n",
      "Confusion matrix, without normalization\n",
      "[[55615  1249]\n",
      " [    7    91]]\n",
      "Confusion matrix, without normalization\n",
      "[[56790    74]\n",
      " [    4    94]]\n",
      "Confusion matrix, without normalization\n",
      "[[56784    80]\n",
      " [    9    89]]\n",
      "Confusion matrix, without normalization\n",
      "[[55615  1249]\n",
      " [    7    91]]\n"
     ]
    },
    {
     "data": {
      "image/png": "[encoded data removed]",
      "text/plain": [
       "<Figure size 864x864 with 10 Axes>"
      ]
     },
     "metadata": {},
     "output_type": "display_data"
    }
   ],
   "source": [
    "y_pred_log_reg_os = classifiers_os['LogisiticRegression_os'].predict(Xtest_os)\n",
    "y_pred_knear_os = classifiers_os['KNearest_os'].predict(Xtest_os)\n",
    "y_pred_svc_os = classifiers_os['Support Vector Classifier_os'] .predict(Xtest_os)\n",
    "y_pred_tree_os = classifiers_os['LogisiticRegression_os'].predict(Xtest_os)\n",
    "\n",
    "log_reg_cm_os = confusion_matrix(ytest_os, y_pred_log_reg_os)\n",
    "kneighbors_cm_os = confusion_matrix(ytest_os, y_pred_knear_os)\n",
    "svc_cm_os = confusion_matrix(ytest_os, y_pred_svc_os)\n",
    "tree_cm_os = confusion_matrix(ytest_os, y_pred_tree_os)\n",
    "\n",
    "#畫出最理想的Confusion matrix，方便對照\n",
    "actual_cm_os = confusion_matrix(ytest_ws, ytest_ws)\n",
    "labels = ['No Fraud', 'Fraud']\n",
    "fig = plt.figure(figsize=(12,12))\n",
    "\n",
    "#畫圖\n",
    "fig.add_subplot(321)\n",
    "plot_confusion_matrix(actual_cm_os, labels, title=\"actual_cm\", cmap=plt.cm.Greens)\n",
    "fig.add_subplot(323)\n",
    "plot_confusion_matrix(log_reg_cm_os, labels, title=\"log_reg_cm\", cmap=plt.cm.Greens)\n",
    "fig.add_subplot(324)\n",
    "plot_confusion_matrix(kneighbors_cm_os, labels, title=\"kneighbors_cm\", cmap=plt.cm.Greens)\n",
    "fig.add_subplot(325)\n",
    "plot_confusion_matrix(svc_cm_os, labels, title=\"svc_cm\", cmap=plt.cm.Greens)\n",
    "fig.add_subplot(326)\n",
    "plot_confusion_matrix(tree_cm_os, labels, title=\"tree_cm\", cmap=plt.cm.Greens)\n"
   ]
  },
  {
   "cell_type": "code",
   "execution_count": 240,
   "metadata": {},
   "outputs": [],
   "source": [
    "def  performance_report(y_real, y_pred):\n",
    "    cm_temp = confusion_matrix(y_real, y_pred)\n",
    "    accuracy = (cm_temp[1,1]+cm_temp[0,0]) / (cm_temp[1,1]+cm_temp[1,0]+cm_temp[0,0]+cm_temp[0,1])\n",
    "    precision = cm_temp[1,1] / (cm_temp[1,1]+cm_temp[1,0])\n",
    "    recall = cm_temp[1,1] / (cm_temp[1,1]+cm_temp[0,1])\n",
    "    F1score = 2*recall*precision/(recall+precision)\n",
    "    #print('accuracy','precision','recall', 'F1score')\n",
    "    print(round(accuracy,5) ,round(precision,5) ,round(recall,5) ,round(F1score,5) ) \n",
    "    #print(cm_temp)\n"
   ]
  },
  {
   "cell_type": "code",
   "execution_count": 242,
   "metadata": {},
   "outputs": [
    {
     "name": "stdout",
     "output_type": "stream",
     "text": [
      "------Logistic Regression:------\n",
      "accuracy precision recall F1score\n",
      "0.99884 0.53061 0.72222 0.61176\n",
      "0.95431 0.94545 0.97196 0.95853\n",
      "0.97795 0.92857 0.06791 0.12656\n",
      "------KNears Neighbors:------\n",
      "accuracy precision recall F1score\n",
      "0.9984 0.07143 1.0 0.13333\n",
      "0.61929 0.65455 0.66055 0.65753\n",
      "0.99863 0.95918 0.55952 0.70677\n",
      "------Support Vector Classifier:------\n",
      "accuracy precision recall F1score\n",
      "0.9984 0.07143 1.0 0.13333\n",
      "0.47208 0.05455 1.0 0.10345\n",
      "0.99844 0.90816 0.52663 0.66667\n",
      "------Tree Classifier:------\n",
      "accuracy precision recall F1score\n",
      "0.99909 0.7551 0.72549 0.74\n",
      "0.93401 0.93636 0.94495 0.94064\n",
      "0.97795 0.92857 0.06791 0.12656\n"
     ]
    }
   ],
   "source": [
    "from sklearn.metrics import classification_report\n",
    "\n",
    "\n",
    "print('------Logistic Regression:------')\n",
    "print('accuracy','precision','recall', 'F1score')\n",
    "performance_report(ytest_ws, y_pred_log_reg_ws)\n",
    "performance_report(ytest_us, y_pred_log_reg_us)\n",
    "performance_report(ytest_os, y_pred_log_reg_os)\n",
    "\n",
    "print('------KNears Neighbors:------')\n",
    "print('accuracy','precision','recall', 'F1score')\n",
    "performance_report(ytest_ws, y_pred_knear_ws)\n",
    "performance_report(ytest_us, y_pred_knear_us)\n",
    "performance_report(ytest_os, y_pred_knear_os)\n",
    "\n",
    "print('------Support Vector Classifier:------')\n",
    "print('accuracy','precision','recall', 'F1score')\n",
    "performance_report(ytest_ws, y_pred_svc_ws)\n",
    "performance_report(ytest_us, y_pred_svc_us)\n",
    "performance_report(ytest_os, y_pred_svc_os)\n",
    "\n",
    "print('------Tree Classifier:------')\n",
    "print('accuracy','precision','recall', 'F1score')\n",
    "performance_report(ytest_ws, y_pred_tree_ws)\n",
    "performance_report(ytest_us, y_pred_tree_us)\n",
    "performance_report(ytest_os, y_pred_tree_os)"
   ]
  },
  {
   "cell_type": "markdown",
   "metadata": {},
   "source": [
    "# ----Neural Networks----"
   ]
  },
  {
   "cell_type": "markdown",
   "metadata": {},
   "source": [
    "## Without Sampling"
   ]
  },
  {
   "cell_type": "code",
   "execution_count": 205,
   "metadata": {},
   "outputs": [],
   "source": [
    "import keras\n",
    "from keras import backend as K\n",
    "from keras.models import Sequential\n",
    "from keras.layers import Activation\n",
    "from keras.layers.core import Dense\n",
    "from keras.optimizers import Adam\n",
    "from keras.metrics import categorical_crossentropy\n",
    "\n",
    "n_inputs = Xtrain_ws.shape[1]\n",
    "\n",
    "nn_model_ws = Sequential([\n",
    "    Dense(n_inputs, input_shape=(n_inputs, ), activation='relu'),\n",
    "    Dense(32, activation='relu'),\n",
    "    Dense(2, activation='softmax')\n",
    "])\n",
    "nn_model_ws.compile(Adam(lr=0.001), loss='sparse_categorical_crossentropy', metrics=['accuracy'])\n"
   ]
  },
  {
   "cell_type": "code",
   "execution_count": 206,
   "metadata": {},
   "outputs": [
    {
     "name": "stdout",
     "output_type": "stream",
     "text": [
      "Train on 182276 samples, validate on 45569 samples\n",
      "Epoch 1/20\n",
      " - 1s - loss: 0.0280 - acc: 0.9983 - val_loss: 0.0276 - val_acc: 0.9983\n",
      "Epoch 2/20\n",
      " - 1s - loss: 0.0279 - acc: 0.9983 - val_loss: 0.0276 - val_acc: 0.9983\n",
      "Epoch 3/20\n",
      " - 1s - loss: 0.0279 - acc: 0.9983 - val_loss: 0.0276 - val_acc: 0.9983\n",
      "Epoch 4/20\n",
      " - 1s - loss: 0.0279 - acc: 0.9983 - val_loss: 0.0276 - val_acc: 0.9983\n",
      "Epoch 5/20\n",
      " - 1s - loss: 0.0279 - acc: 0.9983 - val_loss: 0.0276 - val_acc: 0.9983\n",
      "Epoch 6/20\n",
      " - 1s - loss: 0.0279 - acc: 0.9983 - val_loss: 0.0276 - val_acc: 0.9983\n",
      "Epoch 7/20\n",
      " - 1s - loss: 0.0279 - acc: 0.9983 - val_loss: 0.0276 - val_acc: 0.9983\n",
      "Epoch 8/20\n",
      " - 1s - loss: 0.0279 - acc: 0.9983 - val_loss: 0.0276 - val_acc: 0.9983\n",
      "Epoch 9/20\n",
      " - 1s - loss: 0.0279 - acc: 0.9983 - val_loss: 0.0276 - val_acc: 0.9983\n",
      "Epoch 10/20\n",
      " - 1s - loss: 0.0279 - acc: 0.9983 - val_loss: 0.0276 - val_acc: 0.9983\n",
      "Epoch 11/20\n",
      " - 1s - loss: 0.0279 - acc: 0.9983 - val_loss: 0.0276 - val_acc: 0.9983\n",
      "Epoch 12/20\n",
      " - 1s - loss: 0.0279 - acc: 0.9983 - val_loss: 0.0276 - val_acc: 0.9983\n",
      "Epoch 13/20\n",
      " - 1s - loss: 0.0279 - acc: 0.9983 - val_loss: 0.0276 - val_acc: 0.9983\n",
      "Epoch 14/20\n",
      " - 1s - loss: 0.0279 - acc: 0.9983 - val_loss: 0.0276 - val_acc: 0.9983\n",
      "Epoch 15/20\n",
      " - 1s - loss: 0.0279 - acc: 0.9983 - val_loss: 0.0276 - val_acc: 0.9983\n",
      "Epoch 16/20\n",
      " - 1s - loss: 0.0279 - acc: 0.9983 - val_loss: 0.0276 - val_acc: 0.9983\n",
      "Epoch 17/20\n",
      " - 1s - loss: 0.0279 - acc: 0.9983 - val_loss: 0.0276 - val_acc: 0.9983\n",
      "Epoch 18/20\n",
      " - 1s - loss: 0.0279 - acc: 0.9983 - val_loss: 0.0276 - val_acc: 0.9983\n",
      "Epoch 19/20\n",
      " - 1s - loss: 0.0279 - acc: 0.9983 - val_loss: 0.0276 - val_acc: 0.9983\n",
      "Epoch 20/20\n",
      " - 1s - loss: 0.0279 - acc: 0.9983 - val_loss: 0.0276 - val_acc: 0.9983\n",
      "Confusion matrix, without normalization\n",
      "[[56864     0]\n",
      " [   98     0]]\n",
      "Confusion matrix, without normalization\n",
      "[[56864     0]\n",
      " [    0    98]]\n"
     ]
    },
    {
     "data": {
      "image/png": "[encoded data removed]",
      "text/plain": [
       "<Figure size 1152x576 with 4 Axes>"
      ]
     },
     "metadata": {},
     "output_type": "display_data"
    }
   ],
   "source": [
    "nn_model_ws.fit(Xtrain_ws, ytrain_ws, validation_split=0.2, batch_size=300, epochs=20, shuffle=True, verbose=2)\n",
    "nn_predictions_ws = nn_model_ws.predict(Xtest_ws, batch_size=200, verbose=0)\n",
    "nn_fraud_predictions_ws = nn_model_ws.predict_classes(Xtest_ws, batch_size=200, verbose=0)\n",
    "nn_cm_ws = confusion_matrix(ytest_ws, nn_fraud_predictions_ws)\n",
    "nn_actual_cm = confusion_matrix(ytest_ws, ytest_ws)\n",
    "labels = ['No Fraud', 'Fraud']\n",
    "\n",
    "fig = plt.figure(figsize=(16,8))\n",
    "\n",
    "fig.add_subplot(221)\n",
    "plot_confusion_matrix(nn_cm_ws, labels, title=\"OverSample (SMOTE) \\n Confusion Matrix\", cmap=plt.cm.Oranges)\n",
    "\n",
    "fig.add_subplot(222)\n",
    "plot_confusion_matrix(nn_actual_cm, labels, title=\"Confusion Matrix \\n (with 100% accuracy)\", cmap=plt.cm.Greens)"
   ]
  },
  {
   "cell_type": "markdown",
   "metadata": {},
   "source": [
    "## undersample"
   ]
  },
  {
   "cell_type": "code",
   "execution_count": 207,
   "metadata": {},
   "outputs": [
    {
     "name": "stdout",
     "output_type": "stream",
     "text": [
      "_________________________________________________________________\n",
      "Layer (type)                 Output Shape              Param #   \n",
      "=================================================================\n",
      "dense_10 (Dense)             (None, 30)                930       \n",
      "_________________________________________________________________\n",
      "dense_11 (Dense)             (None, 32)                992       \n",
      "_________________________________________________________________\n",
      "dense_12 (Dense)             (None, 2)                 66        \n",
      "=================================================================\n",
      "Total params: 1,988\n",
      "Trainable params: 1,988\n",
      "Non-trainable params: 0\n",
      "_________________________________________________________________\n"
     ]
    }
   ],
   "source": [
    "n_inputs = Xtrain_us.shape[1]\n",
    "\n",
    "undersample_model = Sequential([\n",
    "    Dense(n_inputs, input_shape=(n_inputs, ), activation='relu'),\n",
    "    Dense(32, activation='relu'),\n",
    "    Dense(2, activation='softmax')\n",
    "])\n",
    "undersample_model.summary()\n"
   ]
  },
  {
   "cell_type": "code",
   "execution_count": 208,
   "metadata": {},
   "outputs": [
    {
     "name": "stdout",
     "output_type": "stream",
     "text": [
      "Train on 629 samples, validate on 158 samples\n",
      "Epoch 1/20\n",
      " - 0s - loss: 7.7387 - acc: 0.5199 - val_loss: 8.1611 - val_acc: 0.4937\n",
      "Epoch 2/20\n",
      " - 0s - loss: 7.7387 - acc: 0.5199 - val_loss: 8.1611 - val_acc: 0.4937\n",
      "Epoch 3/20\n",
      " - 0s - loss: 7.7387 - acc: 0.5199 - val_loss: 8.1611 - val_acc: 0.4937\n",
      "Epoch 4/20\n",
      " - 0s - loss: 7.7387 - acc: 0.5199 - val_loss: 8.1611 - val_acc: 0.4937\n",
      "Epoch 5/20\n",
      " - 0s - loss: 7.7387 - acc: 0.5199 - val_loss: 8.1611 - val_acc: 0.4937\n",
      "Epoch 6/20\n",
      " - 0s - loss: 7.7387 - acc: 0.5199 - val_loss: 8.1611 - val_acc: 0.4937\n",
      "Epoch 7/20\n",
      " - 0s - loss: 7.7387 - acc: 0.5199 - val_loss: 8.1611 - val_acc: 0.4937\n",
      "Epoch 8/20\n",
      " - 0s - loss: 7.7387 - acc: 0.5199 - val_loss: 8.1611 - val_acc: 0.4937\n",
      "Epoch 9/20\n",
      " - 0s - loss: 7.7387 - acc: 0.5199 - val_loss: 8.1611 - val_acc: 0.4937\n",
      "Epoch 10/20\n",
      " - 0s - loss: 7.7387 - acc: 0.5199 - val_loss: 8.1611 - val_acc: 0.4937\n",
      "Epoch 11/20\n",
      " - 0s - loss: 7.7387 - acc: 0.5199 - val_loss: 8.1611 - val_acc: 0.4937\n",
      "Epoch 12/20\n",
      " - 0s - loss: 7.7387 - acc: 0.5199 - val_loss: 8.1611 - val_acc: 0.4937\n",
      "Epoch 13/20\n",
      " - 0s - loss: 7.7387 - acc: 0.5199 - val_loss: 8.1611 - val_acc: 0.4937\n",
      "Epoch 14/20\n",
      " - 0s - loss: 7.7387 - acc: 0.5199 - val_loss: 8.1611 - val_acc: 0.4937\n",
      "Epoch 15/20\n",
      " - 0s - loss: 7.7387 - acc: 0.5199 - val_loss: 8.1611 - val_acc: 0.4937\n",
      "Epoch 16/20\n",
      " - 0s - loss: 7.7387 - acc: 0.5199 - val_loss: 8.1611 - val_acc: 0.4937\n",
      "Epoch 17/20\n",
      " - 0s - loss: 7.7387 - acc: 0.5199 - val_loss: 8.1611 - val_acc: 0.4937\n",
      "Epoch 18/20\n",
      " - 0s - loss: 7.7387 - acc: 0.5199 - val_loss: 8.1611 - val_acc: 0.4937\n",
      "Epoch 19/20\n",
      " - 0s - loss: 7.7387 - acc: 0.5199 - val_loss: 8.1611 - val_acc: 0.4937\n",
      "Epoch 20/20\n",
      " - 0s - loss: 7.7387 - acc: 0.5199 - val_loss: 8.1611 - val_acc: 0.4937\n"
     ]
    }
   ],
   "source": [
    "undersample_model.compile(Adam(lr=0.001), loss='sparse_categorical_crossentropy', metrics=['accuracy'])\n",
    "undersample_model.fit(Xtrain_us, ytrain_us, validation_split=0.2, batch_size=25, epochs=20, shuffle=True, verbose=2)\n",
    "undersample_predictions = undersample_model.predict(Xtest_us, batch_size=200, verbose=0)\n",
    "undersample_fraud_predictions = undersample_model.predict_classes(Xtest_us, batch_size=200, verbose=0)"
   ]
  },
  {
   "cell_type": "code",
   "execution_count": 209,
   "metadata": {},
   "outputs": [],
   "source": [
    "import itertools\n",
    "\n",
    "# Create a confusion matrix\n",
    "def plot_confusion_matrix(cm, classes,\n",
    "                          normalize=False,\n",
    "                          title='Confusion matrix',\n",
    "                          cmap=plt.cm.Blues):\n",
    "    \"\"\"\n",
    "    This function prints and plots the confusion matrix.\n",
    "    Normalization can be applied by setting `normalize=True`.\n",
    "    \"\"\"\n",
    "    if normalize:\n",
    "        cm = cm.astype('float') / cm.sum(axis=1)[:, np.newaxis]\n",
    "        print(\"Normalized confusion matrix\")\n",
    "    else:\n",
    "        print('Confusion matrix, without normalization')\n",
    "\n",
    "    print(cm)\n",
    "\n",
    "    plt.imshow(cm, interpolation='nearest', cmap=cmap)\n",
    "    plt.title(title, fontsize=14)\n",
    "    plt.colorbar()\n",
    "    tick_marks = np.arange(len(classes))\n",
    "    plt.xticks(tick_marks, classes, rotation=45)\n",
    "    plt.yticks(tick_marks, classes)\n",
    "\n",
    "    fmt = '.2f' if normalize else 'd'\n",
    "    thresh = cm.max() / 2.\n",
    "    for i, j in itertools.product(range(cm.shape[0]), range(cm.shape[1])):\n",
    "        plt.text(j, i, format(cm[i, j], fmt),\n",
    "                 horizontalalignment=\"center\",\n",
    "                 color=\"white\" if cm[i, j] > thresh else \"black\")\n",
    "\n",
    "    plt.tight_layout()\n",
    "    plt.ylabel('True label')\n",
    "    plt.xlabel('Predicted label')"
   ]
  },
  {
   "cell_type": "code",
   "execution_count": 210,
   "metadata": {},
   "outputs": [
    {
     "name": "stdout",
     "output_type": "stream",
     "text": [
      "Confusion matrix, without normalization\n",
      "[[ 87   0]\n",
      " [  0 110]]\n",
      "Confusion matrix, without normalization\n",
      "[[ 87   0]\n",
      " [110   0]]\n"
     ]
    },
    {
     "data": {
      "image/png": "[encoded data removed]",
      "text/plain": [
       "<Figure size 1152x576 with 4 Axes>"
      ]
     },
     "metadata": {},
     "output_type": "display_data"
    }
   ],
   "source": [
    "undersample_cm = confusion_matrix(ytest_us, undersample_fraud_predictions)\n",
    "actual_cm = confusion_matrix(ytest_us, ytest_us)\n",
    "labels = ['No Fraud', 'Fraud']\n",
    "\n",
    "fig = plt.figure(figsize=(16,8))\n",
    "\n",
    "fig.add_subplot(222)\n",
    "plot_confusion_matrix(actual_cm, labels, title=\"Confusion Matrix \\n (with 100% accuracy)\", cmap=plt.cm.Greens)\n",
    "fig.add_subplot(221)\n",
    "plot_confusion_matrix(undersample_cm, labels, title=\"Random UnderSample \\n Confusion Matrix\", cmap=plt.cm.Reds)\n"
   ]
  },
  {
   "cell_type": "markdown",
   "metadata": {},
   "source": [
    "## OverSampling"
   ]
  },
  {
   "cell_type": "code",
   "execution_count": 211,
   "metadata": {},
   "outputs": [],
   "source": [
    "n_inputs = Xtrain_os.shape[1]\n",
    "\n",
    "oversample_model = Sequential([\n",
    "    Dense(n_inputs, input_shape=(n_inputs, ), activation='relu'),\n",
    "    Dense(32, activation='relu'),\n",
    "    Dense(2, activation='softmax')\n",
    "])\n",
    "oversample_model.compile(Adam(lr=0.001), loss='sparse_categorical_crossentropy', metrics=['accuracy'])\n"
   ]
  },
  {
   "cell_type": "code",
   "execution_count": 212,
   "metadata": {},
   "outputs": [
    {
     "name": "stdout",
     "output_type": "stream",
     "text": [
      "Train on 363921 samples, validate on 90981 samples\n",
      "Epoch 1/20\n",
      " - 2s - loss: 0.0600 - acc: 0.9785 - val_loss: 0.0286 - val_acc: 0.9970\n",
      "Epoch 2/20\n",
      " - 2s - loss: 0.0136 - acc: 0.9971 - val_loss: 0.0070 - val_acc: 0.9999\n",
      "Epoch 3/20\n",
      " - 1s - loss: 0.0081 - acc: 0.9984 - val_loss: 0.0044 - val_acc: 1.0000\n",
      "Epoch 4/20\n",
      " - 1s - loss: 0.0060 - acc: 0.9989 - val_loss: 0.0032 - val_acc: 0.9999\n",
      "Epoch 5/20\n",
      " - 1s - loss: 0.0047 - acc: 0.9992 - val_loss: 0.0034 - val_acc: 1.0000\n",
      "Epoch 6/20\n",
      " - 2s - loss: 0.0041 - acc: 0.9993 - val_loss: 0.0019 - val_acc: 1.0000\n",
      "Epoch 7/20\n",
      " - 1s - loss: 0.0036 - acc: 0.9994 - val_loss: 0.0022 - val_acc: 1.0000\n",
      "Epoch 8/20\n",
      " - 1s - loss: 0.0036 - acc: 0.9994 - val_loss: 0.0024 - val_acc: 1.0000\n",
      "Epoch 9/20\n",
      " - 2s - loss: 0.0031 - acc: 0.9995 - val_loss: 6.9842e-04 - val_acc: 1.0000\n",
      "Epoch 10/20\n",
      " - 2s - loss: 0.0029 - acc: 0.9996 - val_loss: 7.9294e-04 - val_acc: 0.9997\n",
      "Epoch 11/20\n",
      " - 2s - loss: 0.0029 - acc: 0.9996 - val_loss: 0.0014 - val_acc: 0.9999\n",
      "Epoch 12/20\n",
      " - 2s - loss: 0.0028 - acc: 0.9996 - val_loss: 0.0011 - val_acc: 1.0000\n",
      "Epoch 13/20\n",
      " - 2s - loss: 0.0030 - acc: 0.9996 - val_loss: 5.9643e-04 - val_acc: 1.0000\n",
      "Epoch 14/20\n",
      " - 2s - loss: 0.0023 - acc: 0.9997 - val_loss: 3.1694e-04 - val_acc: 1.0000\n",
      "Epoch 15/20\n",
      " - 2s - loss: 0.0025 - acc: 0.9996 - val_loss: 4.8255e-04 - val_acc: 1.0000\n",
      "Epoch 16/20\n",
      " - 2s - loss: 0.0023 - acc: 0.9997 - val_loss: 2.7098e-04 - val_acc: 1.0000\n",
      "Epoch 17/20\n",
      " - 2s - loss: 0.0021 - acc: 0.9998 - val_loss: 4.9030e-04 - val_acc: 1.0000\n",
      "Epoch 18/20\n",
      " - 2s - loss: 0.0022 - acc: 0.9997 - val_loss: 5.9506e-04 - val_acc: 1.0000\n",
      "Epoch 19/20\n",
      " - 2s - loss: 0.0022 - acc: 0.9997 - val_loss: 9.1301e-05 - val_acc: 1.0000\n",
      "Epoch 20/20\n",
      " - 2s - loss: 0.0022 - acc: 0.9997 - val_loss: 2.2887e-04 - val_acc: 1.0000\n",
      "Confusion matrix, without normalization\n",
      "[[56815    49]\n",
      " [   15    83]]\n",
      "Confusion matrix, without normalization\n",
      "[[56864     0]\n",
      " [    0    98]]\n"
     ]
    },
    {
     "data": {
      "image/png": "[encoded data removed]",
      "text/plain": [
       "<Figure size 1152x576 with 4 Axes>"
      ]
     },
     "metadata": {},
     "output_type": "display_data"
    }
   ],
   "source": [
    "oversample_model.fit(Xtrain_os, ytrain_os, validation_split=0.2, batch_size=300, epochs=20, shuffle=True, verbose=2)\n",
    "oversample_predictions = oversample_model.predict(Xtest_os, batch_size=200, verbose=0)\n",
    "oversample_fraud_predictions = oversample_model.predict_classes(Xtest_os, batch_size=200, verbose=0)\n",
    "oversample_smote = confusion_matrix(ytest_os, oversample_fraud_predictions)\n",
    "actual_cm = confusion_matrix(ytest_os, ytest_os)\n",
    "labels = ['No Fraud', 'Fraud']\n",
    "\n",
    "fig = plt.figure(figsize=(16,8))\n",
    "\n",
    "fig.add_subplot(221)\n",
    "plot_confusion_matrix(oversample_smote, labels, title=\"OverSample (SMOTE) \\n Confusion Matrix\", cmap=plt.cm.Oranges)\n",
    "\n",
    "fig.add_subplot(222)\n",
    "plot_confusion_matrix(actual_cm, labels, title=\"Confusion Matrix \\n (with 100% accuracy)\", cmap=plt.cm.Greens)"
   ]
  },
  {
   "cell_type": "code",
   "execution_count": null,
   "metadata": {},
   "outputs": [],
   "source": []
  },
  {
   "cell_type": "code",
   "execution_count": null,
   "metadata": {},
   "outputs": [],
   "source": []
  }
 ],
 "metadata": {
  "kernelspec": {
   "display_name": "Python 3",
   "language": "python",
   "name": "python3"
  },
  "language_info": {
   "codemirror_mode": {
    "name": "ipython",
    "version": 3
   },
   "file_extension": ".py",
   "mimetype": "text/x-python",
   "name": "python",
   "nbconvert_exporter": "python",
   "pygments_lexer": "ipython3",
   "version": "3.6.5"
  }
 },
 "nbformat": 4,
 "nbformat_minor": 2
}
