{
 "cells": [
  {
   "cell_type": "code",
   "execution_count": 7,
   "metadata": {},
   "outputs": [],
   "source": [
    "def my_binary_crossentropy(y_true, y_pred):\n",
    "    base_factor = 0.9\n",
    "    num_examples = K.cast(K.shape(y_pred)[0], K.floatx())\n",
    "    exponents = num_examples - K.arange(num_examples) - 1\n",
    "    forgetting_factors = K.pow(base_factor, exponents)\n",
    "    forgetting_factors = K.expand_dims(forgetting_factors, axis=-1)\n",
    "    forgetting_factors = K.print_tensor(forgetting_factors)  # only for debugging\n",
    "\n",
    "    loss = K.mean(\n",
    "        forgetting_factors * K.binary_crossentropy(y_true, y_pred),\n",
    "        axis=-1\n",
    "    )\n",
    "    loss = K.print_tensor(loss)  # only for debugging\n",
    "    return loss"
   ]
  },
  {
   "cell_type": "code",
   "execution_count": null,
   "metadata": {},
   "outputs": [],
   "source": []
  },
  {
   "cell_type": "code",
   "execution_count": null,
   "metadata": {},
   "outputs": [],
   "source": []
  }
 ],
 "metadata": {
  "kernelspec": {
   "display_name": "Python 3",
   "language": "python",
   "name": "python3"
  },
  "language_info": {
   "codemirror_mode": {
    "name": "ipython",
    "version": 3
   },
   "file_extension": ".py",
   "mimetype": "text/x-python",
   "name": "python",
   "nbconvert_exporter": "python",
   "pygments_lexer": "ipython3",
   "version": "3.6.5"
  }
 },
 "nbformat": 4,
 "nbformat_minor": 2
}
